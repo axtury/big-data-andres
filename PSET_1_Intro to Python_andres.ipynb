{
 "cells": [
  {
   "cell_type": "markdown",
   "metadata": {},
   "source": [
    "# Problem Set 1: Intro to Python\n",
    "This problem set is meant to create a good foundation of programming. We emphasize code readability and reusability over performance. Code performance can be measured in many different ways, and is by no means the focus of this course, however, we expect your code to be non-repetitive, clean, and efficient enough to deal with medium-to-large datasets. As we move forward with the course, you will be introduced to some functional programming techniques, iterators, and objects that will help speed-up the data munging of the type of data sets that we will be dealing with. \n",
    "\n",
    "`Throughout the course you will be using multiple online resources to help you solve the assignments, we do too. However, if you are using other people’s code, make sure to credit the source, and come up with your own implementation. In this problem set, you are welcome to refer to online resources and documentation. One of the primary ones you will find you use is:` [Stack Overflow]( http://stackoverflow.com/)."
   ]
  },
  {
   "cell_type": "markdown",
   "metadata": {},
   "source": [
    "## 1. Lists\n",
    "Do the following:\n",
    "1. Create a list containing any 4 strings.\n",
    "2. Print the 3rd item in the list\n",
    "3. Print the 1st and 2nd item in the list using [:] index slicing.\n",
    "4. Add a new string with text “last” to the end of the list and print the list.\n",
    "5. Get the list length and print it.\n",
    "6. Replace the last item in the list with the string “new” and print\n"
   ]
  },
  {
   "cell_type": "code",
   "execution_count": 1,
   "metadata": {
    "collapsed": false
   },
   "outputs": [
    {
     "name": "stdout",
     "output_type": "stream",
     "text": [
      "hola\n",
      "['I love', 'soccer']\n",
      "['I love', 'soccer', 'hola', 'q', 'last']\n",
      "5\n",
      "['I love', 'soccer', 'hola', 'q', 'new']\n"
     ]
    }
   ],
   "source": [
    "L=[\"I love\",\"soccer\",\"hola\",\"q\"]  # List that contains 4 strings\n",
    "print(L[2])                       # print the 3rd item in the list\n",
    "print(L[:2])                      # print the 1st and the 2nd item in the list\n",
    "L.append(\"last\")                  # add a new string called \"last\"\n",
    "print(L)                          # print list \"L\"\n",
    "print(len(L))                     # Print the lenght of the list \"L\"\n",
    "L[-1]=\"new\"                       # Replace the last item in the list with the string “new”\n",
    "print(L)                          # # Print list \"L\""
   ]
  },
  {
   "cell_type": "markdown",
   "metadata": {},
   "source": [
    "## 2. Strings \n",
    "Given the following list of words:\n",
    "```Python\n",
    "list1=['I', 'am', 'learning','Python','to','munge','large','datasets','and','visualize','them']\n",
    "```\n",
    "1. Convert the list into a normal sentence with [`join()`](https://docs.python.org/3/library/stdtypes.html#str.join), then print.\n",
    "2. [**Reverse**](https://docs.python.org/3.6/tutorial/datastructures.html) the order of this list `[“them”,”visualize”,…]`\n",
    "3. Now [**sort**](https://docs.python.org/3/library/functions.html#sorted) the list using the default sort order in python\n",
    "4. Modify the sort to do a case [**insensitive**](http://matthiaseisen.com/pp/patterns/p0005/) alphabetic sort\n",
    "5. Now print the list in reverse alphabetic sort order\n"
   ]
  },
  {
   "cell_type": "code",
   "execution_count": 2,
   "metadata": {
    "collapsed": false
   },
   "outputs": [
    {
     "name": "stdout",
     "output_type": "stream",
     "text": [
      "I am learning Python to munge large datasets and visualize them\n",
      "['them', 'visualize', 'and', 'datasets', 'large', 'munge', 'to', 'Python', 'learning', 'am', 'I']\n",
      "['I', 'Python', 'am', 'and', 'datasets', 'large', 'learning', 'munge', 'them', 'to', 'visualize']\n",
      "['am', 'and', 'datasets', 'I', 'large', 'learning', 'munge', 'Python', 'them', 'to', 'visualize']\n",
      "['visualize', 'to', 'them', 'Python', 'munge', 'learning', 'large', 'I', 'datasets', 'and', 'am']\n"
     ]
    }
   ],
   "source": [
    "list1=['I', 'am', 'learning','Python','to','munge','large','datasets','and','visualize','them']\n",
    "\n",
    "S=\" \".join(list1)\n",
    "print(S)\n",
    "list1.reverse()\n",
    "list1\n",
    "print(list1)\n",
    "list1.sort()\n",
    "list1\n",
    "print(list1)\n",
    "A=sorted(list1, key=lambda x:x.lower())\n",
    "print(A)\n",
    "B=sorted(list1, key=lambda x:x.lower(), reverse=True)\n",
    "print(B)"
   ]
  },
  {
   "cell_type": "markdown",
   "metadata": {},
   "source": [
    "## 3. Random Function\n",
    "Here is a python snippet for generating a random integer:\n",
    "\n",
    "```Python\n",
    "import random\n",
    "# this returns random integer: 100 <= number <= 1000 \n",
    "num = random.randint(100, 1000)\n",
    "```\n",
    "\n",
    "* Implement your own random function that builds on this python function, returning an integer between a low and a high number supplied by the user, but that can be called with the low number optional (default to 0).\n",
    "\n",
    "* Test your function by adding the following 2 assert statements to your file (replace myrandom and low with the names you used). The [`assert`](https://docs.python.org/3/reference/simple_stmts.html#assert) statement helps you debug, by testing if a statement is true. \n",
    "\n",
    "```Python\n",
    "assert(0 <= myrandom(100) <= 100)\n",
    "assert(50 <= myrandom(100,low=50) <= 100)\n",
    "```\n",
    "\n",
    "\n",
    "1. Inputs: \n",
    "  1. Two `integers` that will be used as lower and upper bounds of the function. \n",
    "2. Outputs: \n",
    "  1. A random number within the established bounds. "
   ]
  },
  {
   "cell_type": "code",
   "execution_count": 1,
   "metadata": {
    "collapsed": false
   },
   "outputs": [
    {
     "data": {
      "text/plain": [
       "20"
      ]
     },
     "execution_count": 1,
     "metadata": {},
     "output_type": "execute_result"
    }
   ],
   "source": [
    "import random\n",
    "\n",
    "def printinfo (y, x=0):\n",
    "    num = random.randint(x, y)\n",
    "    return num;\n",
    "\n",
    "assert(0 <= printinfo(100) <= 100)\n",
    "assert(50 <= printinfo(100, x=50) <= 100)\n",
    "\n",
    "\n",
    "printinfo(x=3, y=45)"
   ]
  },
  {
   "cell_type": "markdown",
   "metadata": {},
   "source": [
    "## 4. String Formatting Function \n",
    "Write a function that expects 2 inputs from the command line. The first is a title that may be multiple words, the second is a number. Given these inputs print the following string (replacing N and Title with the dynamic values passed in to the script each time it runs).\n",
    "\n",
    "`The number N bestseller today is: Title` \n",
    "\n",
    "* If not already title-cased, the function should **title-case** the string. \n",
    "* Build one function making the first input optional (keeping the 2nd required).\n",
    "* Build another function making the second input optional (keeping the 1st required).\n",
    "* Build a third function making both inputs optional.\n"
   ]
  },
  {
   "cell_type": "code",
   "execution_count": 4,
   "metadata": {
    "collapsed": false
   },
   "outputs": [
    {
     "name": "stdout",
     "output_type": "stream",
     "text": [
      "put title:emilita is the best\n",
      "put number:3\n",
      "The number 3 bestseller today is: Emilita Is The Best\n"
     ]
    }
   ],
   "source": [
    "def expecInputs ():\n",
    "    x=input(\"put title:\")\n",
    "    y=input(\"put number:\")\n",
    "    print(\"The number\",y,\"bestseller today is:\",str.title(x))\n",
    "    return;\n",
    "expecInputs()\n",
    "    "
   ]
  },
  {
   "cell_type": "markdown",
   "metadata": {},
   "source": [
    "## 5. Password Validation Function \n",
    "Write a password validation function. Ask the user to input a password that meets the criteria listed below. You can either use the **Python** [`input`](https://docs.python.org/3/library/functions.html#input) built-in function, or just pass the password as a function argument. Validate that the user’s password matches this criteria. After 3 bad tries, quit with an error message. If password is valid, print a helpful success message.\n",
    "\n",
    "* password length must be 8-14 characters\n",
    "* password must contain at least 2 digits\n",
    "* password must contain at least 1 uppercase letter\n",
    "* password must contain at least 1 special character from this set !@#$%^&*()-_+=\n",
    "\n",
    "\n",
    "\n",
    "1. Inputs: \n",
    "  1. A `string` that will be tested for the password requirements. The string can be passed as an argument to the function, or as an input through the `input` function.\n",
    "2. Outputs: \n",
    "  1. A **success** message if the password works, otherwise an **error** message. \n"
   ]
  },
  {
   "cell_type": "code",
   "execution_count": 1,
   "metadata": {
    "collapsed": false
   },
   "outputs": [
    {
     "name": "stdout",
     "output_type": "stream",
     "text": [
      "Type in your password: s\n",
      "Your password must be between 8 characters and 14 characters long.\n",
      "Type in your password: slkd\n",
      "Your password must be between 8 characters and 14 characters long.\n",
      "Type in your password: adlkj\n",
      "Your password must be between 8 characters and 14 characters long.\n",
      "Type in your password: sd;jfsdfs\n",
      "You need two numbers in your password.\n",
      "Type in your password: dldk45lkj\n",
      "You need a capital letter in your password.\n",
      "Type in your password: Mdlsi34j\n",
      "You need 1 special character from this set !@#$%^&*()-_+= in your password.\n",
      "Type in your password: Mdouy45$\n",
      "Password set\n"
     ]
    }
   ],
   "source": [
    "import re\n",
    "\n",
    "def checkPassword(password): #Validate the password\n",
    "    R=range(1,3)\n",
    "    for i in R:\n",
    "\n",
    "    if len(password) < 8 or len(password) > 14:\n",
    "        # Password to short\n",
    "        print(\"Your password must be between 8 characters and 14 characters long.\")\n",
    "        return False\n",
    "    elif not re.findall(r'\\d{2}', password):\n",
    "        # Missing a number\n",
    "        print(\"You need two numbers in your password.\")\n",
    "        return False\n",
    "    elif not re.findall(r'[A-Z]+', password):\n",
    "        # Missing at least one capital letter\n",
    "        print(\"You need a capital letter in your password.\")\n",
    "        return False\n",
    "    elif not re.findall(r'\\W', password):\n",
    "        # Missing at least one special character\n",
    "        print(\"You need 1 special character from this set !@#$%^&*()-_+= in your password.\")\n",
    "        return False\n",
    "#     elif i==3:\n",
    "#         print \n",
    "    else:\n",
    "        # All good\n",
    "        print(\"Password set\")\n",
    "        return True\n",
    "\n",
    "# Promt user to enter valid password\n",
    "passwordValid = False\n",
    "while not passwordValid:\n",
    "    password = input(\"Type in your password: \")\n",
    "    passwordValid = checkPassword(password)"
   ]
  },
  {
   "cell_type": "markdown",
   "metadata": {},
   "source": [
    "## 6. Exponentiation Function\n",
    "Create a function called **exp** that asks for two digits and then prints an exponentiation, without using the exponentiation operator (`**`). You may assume these are positive integers. Use at least one custom-defined function.\n",
    "\n",
    "For example, some outputs of this function could be:\n",
    "* 2 , 3 => 8\n",
    "* 5 , 4 => 625\n",
    "\n",
    "1. Inputs: \n",
    "  1. An `integer` that will be recursively multiplied\n",
    "  2. An `integer` that will define the number of times to multiply the number to get the exponentiation.\n",
    "2. Outputs: \n",
    "  1. An `integer` that is the result of the exponentiation. \n",
    "\n",
    "`Hint: You can recursively multiply a number. The second number defines the number of times the recursive loop happens. Every time the loop happens, you can redefine the variable that gets multiplied.` "
   ]
  },
  {
   "cell_type": "code",
   "execution_count": 4,
   "metadata": {
    "collapsed": false
   },
   "outputs": [
    {
     "name": "stdout",
     "output_type": "stream",
     "text": [
      "8\n"
     ]
    }
   ],
   "source": [
    "def exp(x,y):\n",
    "#     x=input ('insert the number:')\n",
    "#     y=input ('insert the exponent')\n",
    "#     return;\n",
    "    result = 1\n",
    "    for i in range(y): # i= each time\n",
    "        result= x * result\n",
    "    return result;\n",
    "    \n",
    "print (exp(2,3))\n",
    "\n",
    "    "
   ]
  },
  {
   "cell_type": "markdown",
   "metadata": {},
   "source": [
    "## 7. Min and Max Functions (Bonus)\n",
    "\n",
    "EXTRA CREDIT\n",
    "\n",
    "Write your own versions of the Python built-in functions **min** and **max**. They should take a list as an argument and return the minimum or maximum element. Assume lists contain numeric items only. \n",
    "\n",
    "1. Inputs: \n",
    "  1. A `list` of `numbers` to be tested. \n",
    "2. Outputs: \n",
    "  1. A `number` of the list that is the maximum or minimum. \n",
    "\n",
    "`Hint: Pick the first element as the minimum(maximum) and then loop through the elements to find a smaller(larger) element. Each time you find a smaller (larger) element, update your minimum (maximum).`"
   ]
  },
  {
   "cell_type": "code",
   "execution_count": 2,
   "metadata": {
    "collapsed": false
   },
   "outputs": [
    {
     "name": "stdout",
     "output_type": "stream",
     "text": [
      "Type in your password: sdlkf\n",
      "Your password must be 8 characters long.\n",
      "Type in your password: lksdfjsdlkj\n",
      "You need a number in your password.\n",
      "Type in your password: sdfdilsdkfms3\n",
      "You need a capital letter in your password.\n",
      "Type in your password: Masdaslk3\n",
      "All good\n"
     ]
    }
   ],
   "source": [
    "import re\n",
    "\n",
    "def checkPassword(password):\n",
    "    \"\"\"\n",
    "    Validate the password\n",
    "    \"\"\"\n",
    "    if len(password) < 8:\n",
    "        # Password to short\n",
    "        print(\"Your password must be 8 characters long.\")\n",
    "        return False\n",
    "    elif not re.findall(r'\\d+', password):\n",
    "        # Missing a number\n",
    "        print(\"You need a number in your password.\")\n",
    "        return False\n",
    "    elif not re.findall(r'[A-Z]+', password):\n",
    "        # Missing at least one capital letter\n",
    "        print(\"You need a capital letter in your password.\")\n",
    "        return False\n",
    "    else:\n",
    "        # All good\n",
    "        print(\"All good\")\n",
    "        return True\n",
    "\n",
    "# Promt user to enter valid password\n",
    "passwordValid = False\n",
    "while not passwordValid:\n",
    "    password = input(\"Type in your password: \")\n",
    "    passwordValid = checkPassword(password)"
   ]
  },
  {
   "cell_type": "markdown",
   "metadata": {},
   "source": [
    "## 8. Hangman Game (Bonus)\n",
    "\n",
    "EXTRA CREDIT\n",
    "\n",
    "Implement a basic hangman game through functions.\n",
    "* Show a user the word or phrase (5-15 letters) that they have to guess with dashes as placeholders for unsolved letters. You can hardcode this word into your source.\n",
    "* Prompt the user to guess a letter or solve the puzzle through the user [`input`](https://docs.python.org/3/library/functions.html#input) function. They get up to 8 guesses. After each guess, show the word with any instances of correctly guessed letters filled in. Show the number of tries left. Handle possible issues with user input in a consistent way.\n",
    "* Continue to prompt the user until either they’ve used up their 8 guesses or solved.\n",
    "* If they solve the puzzle in time, show the completed word and a congratulatory message.\n",
    "* If they fail to solve the puzzle, show the completed word and a Game Over message.\n",
    "\n",
    "\n",
    "Here’s a sample transcript.\n",
    "> You have 8 guesses to solve this word. \n",
    "\n",
    ">------------------------------------------   \n",
    "\n",
    ">guess a letter or solve: b \n",
    "\n",
    ">b--b--b--  (7 tries left) \n",
    "\n",
    ">guess a letter or solve: x \n",
    "\n",
    ">b--b--b--  (6 tries left) \n",
    "\n",
    ">guess a letter or solve: e \n",
    "\n",
    ">b--b-ebee  (5 tries left) \n",
    "\n",
    ">guess a letter or solve: bumblebee \n",
    "\n",
    ">bumblebee  (4 tries left) \n",
    "\n",
    ">Congratulations, you won!\n",
    "\n",
    "1. Inputs: \n",
    "  1. A `string` that will be tested to see whether or not it is part of the secret word. \n",
    "2. Outputs: \n",
    "  1. A message that shows the user the number of guessed letters at the time.\n",
    "  2. A **success** message if the user wins, otherwise a **try again** message. \n"
   ]
  },
  {
   "cell_type": "code",
   "execution_count": null,
   "metadata": {
    "collapsed": true
   },
   "outputs": [],
   "source": []
  }
 ],
 "metadata": {
  "anaconda-cloud": {},
  "kernelspec": {
   "display_name": "Python [Root]",
   "language": "python",
   "name": "Python [Root]"
  },
  "language_info": {
   "codemirror_mode": {
    "name": "ipython",
    "version": 3
   },
   "file_extension": ".py",
   "mimetype": "text/x-python",
   "name": "python",
   "nbconvert_exporter": "python",
   "pygments_lexer": "ipython3",
   "version": "3.5.2"
  }
 },
 "nbformat": 4,
 "nbformat_minor": 0
}
